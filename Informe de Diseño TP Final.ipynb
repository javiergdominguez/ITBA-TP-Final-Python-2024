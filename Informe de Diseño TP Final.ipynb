{
 "cells": [
  {
   "cell_type": "markdown",
   "id": "442b2411-5078-473f-8631-5cdf0ca5a570",
   "metadata": {},
   "source": [
    "ITBA - TP Final Python"
   ]
  },
  {
   "cell_type": "code",
   "execution_count": null,
   "id": "eea37f90-54e0-4b49-8212-45e6c9003144",
   "metadata": {},
   "outputs": [],
   "source": [
    "## Instalación del proyecto"
   ]
  },
  {
   "cell_type": "code",
   "execution_count": null,
   "id": "e2dee2cf-0674-4865-b661-f13c72ce4414",
   "metadata": {},
   "outputs": [],
   "source": [
    "´´´\n",
    "conda create -n tp-final-2024\n",
    "conda activate tp-final-2024\n",
    "conda install Python==3.10.13\n",
    "´´´"
   ]
  },
  {
   "cell_type": "code",
   "execution_count": null,
   "id": "3b5a59a9-72ec-4fbc-bb94-17b542f612ee",
   "metadata": {},
   "outputs": [],
   "source": []
  }
 ],
 "metadata": {
  "kernelspec": {
   "display_name": "Python 3 (ipykernel)",
   "language": "python",
   "name": "python3"
  },
  "language_info": {
   "codemirror_mode": {
    "name": "ipython",
    "version": 3
   },
   "file_extension": ".py",
   "mimetype": "text/x-python",
   "name": "python",
   "nbconvert_exporter": "python",
   "pygments_lexer": "ipython3",
   "version": "3.10.13"
  }
 },
 "nbformat": 4,
 "nbformat_minor": 5
}
